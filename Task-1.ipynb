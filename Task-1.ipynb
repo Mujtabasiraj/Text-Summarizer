{
 "cells": [
  {
   "cell_type": "code",
   "execution_count": 1,
   "metadata": {
    "id": "yhjlFVjtOxRL"
   },
   "outputs": [],
   "source": [
    "from transformers import pipeline\n",
    "from langchain_community.document_loaders import PyPDFLoader\n",
    "import warnings\n",
    "warnings.filterwarnings('ignore')\n",
    "import gradio as gr"
   ]
  },
  {
   "cell_type": "code",
   "execution_count": 2,
   "metadata": {
    "colab": {
     "base_uri": "https://localhost:8080/",
     "height": 227,
     "referenced_widgets": [
      "e0b748facda041b7abdd934ec4688e6a",
      "cb28911f33e8411ca4f330f21a801e92",
      "bac0a766579540c9b0a5cd2fd89a1060",
      "65702b70d3544c0287ec6025cfda4008",
      "6c6154a1c7aa4cffa1a54d3ff0346dc6",
      "71a2230e497242a1900e5f6365ecc10a",
      "d69fc4667e544709b2e8fedb37d4b487",
      "58bc71dc10fb438b932a56fc9c6cdcb7",
      "ec13062857834994a5a0d210f8769dd5",
      "4b79f6f2a7924c11927f0907fb8a09dc",
      "9a5adfd4e9ae4b9685f28d71f0bb532f",
      "decb958ad9954e8abbadcecdbfe9081c",
      "30e343e8916c4e9e98891e694b009c9d",
      "4f08d022e0bb4df9983df7e1d9d70dd9",
      "0071f452c6d44efca93f4e562dfe737c",
      "60a581c684ce48ee92726b291891dd10",
      "28335917af93489dbb8c51a132f2d94c",
      "f86eae9c0734463eb4a519b3dafbc79b",
      "51cd6b3605eb4f1cafe767cbb84899e4",
      "f6f50848bde14eccb51f5eec815757b9",
      "18dfaba8b4c848f086ddb552562edb16",
      "ca420e0d041a4c5d86f327abeb1441c7",
      "4493f7dfc86247d4872058dfa07c9a33",
      "249e3a0012d84bfc8a1428e056f639e4",
      "c3755dd90381419fbaa9a84e996d3dcb",
      "f6340c3b20c4468a9485afe1b6dba525",
      "28ac3d2b932941cab105a005480d5648",
      "4bd75ed9055842bd8ce27a8afbfed4e3",
      "7d4995f478a84bc8b8231b7455ee101f",
      "5aab0fcfce424950a1f0568c82dbb265",
      "a50f6d666c8443c0a79ae7ee74f7e847",
      "4a82b9bd8fff408789a4f10f300cf79d",
      "923bb9ce22b0474fb4b1c014def217f1",
      "0a0907de54a54ce2bee4ffe026314d62",
      "362130b9a4324c93928e8bae6db4a2f7",
      "4dcef260a94349cd81253c6f8a93b09f",
      "571b0a89e57d48e09f3fcde521da9173",
      "9ebc385b9a144f0b839a637aa0360b96",
      "373ee69e2f224c76b8c856d6ba184670",
      "5126c79c8c4248eaaf20f65aa8a14b05",
      "1457088c8c99489fa578dea6eb31e781",
      "9bc6e95137a446a6bbd09023d748c510",
      "582e1657f58b4b8c82e1971638938209",
      "d06e07b02de2456b9f31ec11dfb3841d",
      "e8eb83d8d5e4464191a3b3a88ceb7906",
      "18bd5a71e9b542f4925407b821904c7d",
      "73960668093f4ded977cdde79edd8583",
      "57fbdf301b5d481184be31c27c7ac1df",
      "ded9593538614158b154c8037ca4197d",
      "7e380b657768422288316d644498ce79",
      "43f3e8b20add4b84bc7c369901baf7b8",
      "15800696786241cd9b36d592b06b52ff",
      "fb6dffc711964f089d0b942f33289586",
      "9ce535cd13924fe3abdcfcf1db997cde",
      "cdb85310045c4e9c89670fcb1ee13f87",
      "c39a363e18e140b2b0ba0b7496a87834",
      "e2653b7c95e74372a13f9709cebae6df",
      "83c99a1e7a7a44d0b86063ec1eadb36b",
      "febc2534295a466da5d4bc04a9115334",
      "861c99af2700423dbf5a2cae788cf7f5",
      "1659ab2cbb034e1d82d8afc1a5459269",
      "44a9116c91f04ac4b93133e1ffd23479",
      "10ae82e125d9456a8161490a1d3bebcf",
      "c8b5a19618a640628ad1b9a9c5640a93",
      "8912bd6bbbc7415fa44ae41b59fe3fba",
      "ec3b058c568f4e7ea2682a079e77edae"
     ]
    },
    "id": "IfWroku4O0Sp",
    "outputId": "c1e710f2-8c63-4409-b179-963659aa75d5"
   },
   "outputs": [
    {
     "data": {
      "application/vnd.jupyter.widget-view+json": {
       "model_id": "e0b748facda041b7abdd934ec4688e6a",
       "version_major": 2,
       "version_minor": 0
      },
      "text/plain": [
       "config.json: 0.00B [00:00, ?B/s]"
      ]
     },
     "metadata": {},
     "output_type": "display_data"
    },
    {
     "data": {
      "application/vnd.jupyter.widget-view+json": {
       "model_id": "decb958ad9954e8abbadcecdbfe9081c",
       "version_major": 2,
       "version_minor": 0
      },
      "text/plain": [
       "pytorch_model.bin:   0%|          | 0.00/1.22G [00:00<?, ?B/s]"
      ]
     },
     "metadata": {},
     "output_type": "display_data"
    },
    {
     "data": {
      "application/vnd.jupyter.widget-view+json": {
       "model_id": "4493f7dfc86247d4872058dfa07c9a33",
       "version_major": 2,
       "version_minor": 0
      },
      "text/plain": [
       "model.safetensors:   0%|          | 0.00/1.22G [00:00<?, ?B/s]"
      ]
     },
     "metadata": {},
     "output_type": "display_data"
    },
    {
     "data": {
      "application/vnd.jupyter.widget-view+json": {
       "model_id": "0a0907de54a54ce2bee4ffe026314d62",
       "version_major": 2,
       "version_minor": 0
      },
      "text/plain": [
       "tokenizer_config.json:   0%|          | 0.00/26.0 [00:00<?, ?B/s]"
      ]
     },
     "metadata": {},
     "output_type": "display_data"
    },
    {
     "data": {
      "application/vnd.jupyter.widget-view+json": {
       "model_id": "e8eb83d8d5e4464191a3b3a88ceb7906",
       "version_major": 2,
       "version_minor": 0
      },
      "text/plain": [
       "vocab.json: 0.00B [00:00, ?B/s]"
      ]
     },
     "metadata": {},
     "output_type": "display_data"
    },
    {
     "data": {
      "application/vnd.jupyter.widget-view+json": {
       "model_id": "c39a363e18e140b2b0ba0b7496a87834",
       "version_major": 2,
       "version_minor": 0
      },
      "text/plain": [
       "merges.txt: 0.00B [00:00, ?B/s]"
      ]
     },
     "metadata": {},
     "output_type": "display_data"
    },
    {
     "name": "stderr",
     "output_type": "stream",
     "text": [
      "Device set to use cuda:0\n"
     ]
    }
   ],
   "source": [
    "summarizer = pipeline(\"summarization\", model=\"sshleifer/distilbart-cnn-12-6\",device=0)"
   ]
  },
  {
   "cell_type": "code",
   "execution_count": 9,
   "metadata": {
    "id": "zDHMELNFTMCJ"
   },
   "outputs": [],
   "source": [
    "def adaptive_summarize(file):\n",
    "    load = PyPDFLoader(file.name)\n",
    "    docs = load.load()\n",
    "\n",
    "    text_chunks = [doc.page_content for doc in docs if doc.page_content.strip() != \"\"]\n",
    "    combined = \"\"\n",
    "\n",
    "    for chunk in text_chunks:\n",
    "        chunk_length = len(chunk.split())\n",
    "        compression_ratio = 0.5\n",
    "\n",
    "        max_len = max(50, int(chunk_length * compression_ratio))\n",
    "        min_len = max(25, int(max_len * 0.5))\n",
    "\n",
    "        result = summarizer(chunk, max_length=max_len, min_length=min_len, do_sample=False)\n",
    "        combined += result[0]['summary_text'] + \" \"\n",
    "\n",
    "    combined_length = len(combined.split())\n",
    "    final_compression_ratio = 0.3\n",
    "\n",
    "    max_len = max(100, int(combined_length * final_compression_ratio))\n",
    "    min_len = max(50, int(max_len * 0.5))\n",
    "\n",
    "    final_summary = summarizer(combined, max_length=max_len, min_length=min_len, do_sample=False)\n",
    "\n",
    "    original_text = \" \".join(text_chunks)\n",
    "    return original_text, final_summary[0][\"summary_text\"]"
   ]
  },
  {
   "cell_type": "code",
   "execution_count": 10,
   "metadata": {
    "id": "_AfJ3UCcSclP"
   },
   "outputs": [],
   "source": [
    "with gr.Blocks(title=\"Adaptive PDF Summarizer\") as demo:\n",
    "    gr.Markdown(\"## \ud83d\udcc4 Adaptive PDF Article Summarizer with GPU\")\n",
    "    with gr.Row():\n",
    "        up = gr.File(label=\"Upload a PDF\", file_types=[\".pdf\"])\n",
    "        btn = gr.Button(\"Summarize\")\n",
    "\n",
    "    with gr.Row():\n",
    "        original_output = gr.Markdown(label=\"Original Text\")\n",
    "        summary_output = gr.Markdown(label=\"Summarized Text\")\n",
    "\n",
    "    btn.click(fn=adaptive_summarize, inputs=up, outputs=[original_output, summary_output])"
   ]
  },
  {
   "cell_type": "code",
   "execution_count": 11,
   "metadata": {
    "colab": {
     "base_uri": "https://localhost:8080/",
     "height": 612
    },
    "id": "Kscop5UJUhCB",
    "outputId": "449c8d10-0d40-4104-86c5-cb749822ba9a"
   },
   "outputs": [
    {
     "name": "stdout",
     "output_type": "stream",
     "text": [
      "Colab notebook detected. To show errors in colab notebook, set debug=True in launch()\n",
      "* Running on public URL: https://e8bfe4d5770af92e32.gradio.live\n",
      "\n",
      "This share link expires in 1 week. For free permanent hosting and GPU upgrades, run `gradio deploy` from the terminal in the working directory to deploy to Hugging Face Spaces (https://huggingface.co/spaces)\n"
     ]
    },
    {
     "data": {
      "text/html": [
       "<div><iframe src=\"https://e8bfe4d5770af92e32.gradio.live\" width=\"100%\" height=\"500\" allow=\"autoplay; camera; microphone; clipboard-read; clipboard-write;\" frameborder=\"0\" allowfullscreen></iframe></div>"
      ],
      "text/plain": [
       "<IPython.core.display.HTML object>"
      ]
     },
     "metadata": {},
     "output_type": "display_data"
    },
    {
     "data": {
      "text/plain": []
     },
     "execution_count": 11,
     "metadata": {},
     "output_type": "execute_result"
    }
   ],
   "source": [
    "demo.launch(share=True)"
   ]
  }
 ],
 "metadata": {
  "accelerator": "GPU",
  "colab": {
   "gpuType": "T4",
   "provenance": []
  },
  "kernelspec": {
   "display_name": "Python 3 (ipykernel)",
   "language": "python",
   "name": "python3"
  },
  "language_info": {
   "codemirror_mode": {
    "name": "ipython",
    "version": 3
   },
   "file_extension": ".py",
   "mimetype": "text/x-python",
   "name": "python",
   "nbconvert_exporter": "python",
   "pygments_lexer": "ipython3",
   "version": "3.11.13"
  }
 },
 "nbformat": 4,
 "nbformat_minor": 4
}